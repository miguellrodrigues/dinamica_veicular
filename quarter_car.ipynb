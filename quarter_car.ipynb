{
 "cells": [
  {
   "cell_type": "code",
   "execution_count": 28,
   "metadata": {},
   "outputs": [],
   "source": [
    "import numpy as np\n",
    "import sympy as sp\n",
    "import matplotlib.pyplot as plt"
   ]
  },
  {
   "cell_type": "code",
   "execution_count": 29,
   "metadata": {},
   "outputs": [],
   "source": [
    "t = sp.symbols('t')\n",
    "\n",
    "# generalized coordinates\n",
    "q1 = sp.Function('q_1')(t)\n",
    "q2 = sp.Function('q_2')(t)\n",
    "\n",
    "q1_dot = q1.diff(t)\n",
    "q2_dot = q2.diff(t)\n",
    "\n",
    "q1_ddot = q1_dot.diff(t)\n",
    "q2_ddot = q2_dot.diff(t)\n",
    "\n",
    "K1, K2, C1, C2, M1, M2 = sp.symbols('K_1 K_2 C_1 C_2 M_1 M_2')"
   ]
  },
  {
   "cell_type": "code",
   "execution_count": 30,
   "metadata": {},
   "outputs": [],
   "source": [
    "# Kinetic energy\n",
    "T = sp.Rational(1,2) * (M1*q1_dot**2 + M2*q2_dot**2)\n",
    "\n",
    "# Potential energy\n",
    "V = sp.Rational(1,2) * (K1*(q1-q2)**2 + K2*q2**2)\n",
    "\n",
    "# Dissipative energy\n",
    "P = sp.Rational(1,2) * (C1*(q1-q2)**2 + C2*q2**2)\n",
    "\n",
    "# Lagrangian\n",
    "L = T - V\n",
    "\n",
    "# Euler-Lagrange equations\n",
    "\n",
    "LE1 = sp.diff(L.diff(q1_dot), t) - L.diff(q1) + P.diff(q1)\n",
    "LE2 = sp.diff(L.diff(q2_dot), t) - L.diff(q2) + P.diff(q2)\n",
    "\n",
    "E1 = sp.Eq(LE1, 0)\n",
    "E2 = sp.Eq(LE2, 0)\n",
    "\n",
    "# Solve for the accelerations\n",
    "z1_ddot = sp.solve(E1, q1_ddot)[0]\n",
    "z2_ddot = sp.solve(E2, q2_ddot)[0]"
   ]
  },
  {
   "cell_type": "code",
   "execution_count": 31,
   "metadata": {},
   "outputs": [
    {
     "data": {
      "text/latex": [
       "$\\displaystyle C_{1} q_{1}{\\left(t \\right)} - C_{1} q_{2}{\\left(t \\right)} + K_{1} q_{1}{\\left(t \\right)} - K_{1} q_{2}{\\left(t \\right)} + M_{1} \\frac{d^{2}}{d t^{2}} q_{1}{\\left(t \\right)}$"
      ],
      "text/plain": [
       "C_1*q_1(t) - C_1*q_2(t) + K_1*q_1(t) - K_1*q_2(t) + M_1*Derivative(q_1(t), (t, 2))"
      ]
     },
     "execution_count": 31,
     "metadata": {},
     "output_type": "execute_result"
    }
   ],
   "source": [
    "E1.args[0].expand()"
   ]
  },
  {
   "cell_type": "code",
   "execution_count": 32,
   "metadata": {},
   "outputs": [
    {
     "data": {
      "text/latex": [
       "$\\displaystyle - C_{1} q_{1}{\\left(t \\right)} + C_{1} q_{2}{\\left(t \\right)} + C_{2} q_{2}{\\left(t \\right)} - K_{1} q_{1}{\\left(t \\right)} + K_{1} q_{2}{\\left(t \\right)} + K_{2} q_{2}{\\left(t \\right)} + M_{2} \\frac{d^{2}}{d t^{2}} q_{2}{\\left(t \\right)}$"
      ],
      "text/plain": [
       "-C_1*q_1(t) + C_1*q_2(t) + C_2*q_2(t) - K_1*q_1(t) + K_1*q_2(t) + K_2*q_2(t) + M_2*Derivative(q_2(t), (t, 2))"
      ]
     },
     "execution_count": 32,
     "metadata": {},
     "output_type": "execute_result"
    }
   ],
   "source": [
    "E2.args[0].expand()"
   ]
  },
  {
   "cell_type": "code",
   "execution_count": 33,
   "metadata": {},
   "outputs": [],
   "source": [
    "M = sp.Matrix([\n",
    "    [M1, 0],\n",
    "    [0, M2]\n",
    "])\n",
    "\n",
    "K = sp.Matrix([\n",
    "    [K2+K1, -K2],\n",
    "    [-K2  ,  K2]\n",
    "])\n",
    "\n",
    "C = sp.Matrix([\n",
    "    [C1, -C1],\n",
    "    [-C1 , C1+C2]\n",
    "])"
   ]
  },
  {
   "cell_type": "code",
   "execution_count": 34,
   "metadata": {},
   "outputs": [
    {
     "data": {
      "text/latex": [
       "$\\displaystyle \\left[\\begin{matrix}M_{1} & 0\\\\0 & M_{2}\\end{matrix}\\right]$"
      ],
      "text/plain": [
       "Matrix([\n",
       "[M_1,   0],\n",
       "[  0, M_2]])"
      ]
     },
     "execution_count": 34,
     "metadata": {},
     "output_type": "execute_result"
    }
   ],
   "source": [
    "M"
   ]
  },
  {
   "cell_type": "code",
   "execution_count": 35,
   "metadata": {},
   "outputs": [
    {
     "data": {
      "text/latex": [
       "$\\displaystyle \\left[\\begin{matrix}K_{1} + K_{2} & - K_{2}\\\\- K_{2} & K_{2}\\end{matrix}\\right]$"
      ],
      "text/plain": [
       "Matrix([\n",
       "[K_1 + K_2, -K_2],\n",
       "[     -K_2,  K_2]])"
      ]
     },
     "execution_count": 35,
     "metadata": {},
     "output_type": "execute_result"
    }
   ],
   "source": [
    "K"
   ]
  },
  {
   "cell_type": "code",
   "execution_count": 36,
   "metadata": {},
   "outputs": [
    {
     "data": {
      "text/latex": [
       "$\\displaystyle \\left[\\begin{matrix}C_{1} & - C_{1}\\\\- C_{1} & C_{1} + C_{2}\\end{matrix}\\right]$"
      ],
      "text/plain": [
       "Matrix([\n",
       "[ C_1,      -C_1],\n",
       "[-C_1, C_1 + C_2]])"
      ]
     },
     "execution_count": 36,
     "metadata": {},
     "output_type": "execute_result"
    }
   ],
   "source": [
    "C"
   ]
  }
 ],
 "metadata": {
  "kernelspec": {
   "display_name": "Python 3",
   "language": "python",
   "name": "python3"
  },
  "language_info": {
   "codemirror_mode": {
    "name": "ipython",
    "version": 3
   },
   "file_extension": ".py",
   "mimetype": "text/x-python",
   "name": "python",
   "nbconvert_exporter": "python",
   "pygments_lexer": "ipython3",
   "version": "3.10.6"
  },
  "orig_nbformat": 4
 },
 "nbformat": 4,
 "nbformat_minor": 2
}
