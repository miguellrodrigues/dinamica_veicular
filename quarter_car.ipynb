{
 "cells": [
  {
   "cell_type": "code",
   "execution_count": 110,
   "metadata": {},
   "outputs": [],
   "source": [
    "import numpy as np\n",
    "import sympy as sp\n",
    "import matplotlib.pyplot as plt"
   ]
  },
  {
   "cell_type": "code",
   "execution_count": 111,
   "metadata": {},
   "outputs": [],
   "source": [
    "t = sp.symbols('t')\n",
    "\n",
    "# generalized coordinates\n",
    "q1 = sp.Function('q_1')(t)\n",
    "q2 = sp.Function('q_2')(t)\n",
    "\n",
    "q1_dot = q1.diff(t)\n",
    "q2_dot = q2.diff(t)\n",
    "\n",
    "q1_ddot = q1_dot.diff(t)\n",
    "q2_ddot = q2_dot.diff(t)\n",
    "\n",
    "Kt, Ks, Cs, Mu, Ms = sp.symbols('K_t K_s C_s M_u M_s')"
   ]
  },
  {
   "cell_type": "code",
   "execution_count": 112,
   "metadata": {},
   "outputs": [],
   "source": [
    "# Kinetic energy\n",
    "T = sp.Rational(1,2) * ( Mu*q1_dot**2 + Ms*q2_dot**2 )\n",
    "\n",
    "# Potential energy\n",
    "V = sp.Rational(1,2) * ( Kt*q1**2 + Ks*(q2-q1)**2 )\n",
    "\n",
    "# Dissipative energy\n",
    "P = sp.Rational(1,2) * (Cs*(q2-q1)**2)\n",
    "\n",
    "# Lagrangian\n",
    "L = T - V\n",
    "\n",
    "# Euler-Lagrange equations\n",
    "\n",
    "LE1 = sp.diff(L.diff(q1_dot), t) - L.diff(q1) + P.diff(q1)\n",
    "LE2 = sp.diff(L.diff(q2_dot), t) - L.diff(q2) + P.diff(q2)\n",
    "\n",
    "E1 = sp.Eq(LE1, 0)\n",
    "E2 = sp.Eq(LE2, 0)\n",
    "\n",
    "# Solve for the accelerations\n",
    "z1_ddot = sp.solve(E1, q1_ddot)[0]\n",
    "z2_ddot = sp.solve(E2, q2_ddot)[0]"
   ]
  },
  {
   "cell_type": "code",
   "execution_count": 113,
   "metadata": {},
   "outputs": [
    {
     "data": {
      "text/latex": [
       "$\\displaystyle C_{s} q_{1}{\\left(t \\right)} - C_{s} q_{2}{\\left(t \\right)} + K_{s} q_{1}{\\left(t \\right)} - K_{s} q_{2}{\\left(t \\right)} + K_{t} q_{1}{\\left(t \\right)} + M_{u} \\frac{d^{2}}{d t^{2}} q_{1}{\\left(t \\right)}$"
      ],
      "text/plain": [
       "C_s*q_1(t) - C_s*q_2(t) + K_s*q_1(t) - K_s*q_2(t) + K_t*q_1(t) + M_u*Derivative(q_1(t), (t, 2))"
      ]
     },
     "execution_count": 113,
     "metadata": {},
     "output_type": "execute_result"
    }
   ],
   "source": [
    "E1.args[0].expand()"
   ]
  },
  {
   "cell_type": "code",
   "execution_count": 114,
   "metadata": {},
   "outputs": [
    {
     "data": {
      "text/latex": [
       "$\\displaystyle - C_{s} q_{1}{\\left(t \\right)} + C_{s} q_{2}{\\left(t \\right)} - K_{s} q_{1}{\\left(t \\right)} + K_{s} q_{2}{\\left(t \\right)} + M_{s} \\frac{d^{2}}{d t^{2}} q_{2}{\\left(t \\right)}$"
      ],
      "text/plain": [
       "-C_s*q_1(t) + C_s*q_2(t) - K_s*q_1(t) + K_s*q_2(t) + M_s*Derivative(q_2(t), (t, 2))"
      ]
     },
     "execution_count": 114,
     "metadata": {},
     "output_type": "execute_result"
    }
   ],
   "source": [
    "E2.args[0].expand()"
   ]
  },
  {
   "cell_type": "code",
   "execution_count": 115,
   "metadata": {},
   "outputs": [],
   "source": [
    "M = sp.Matrix([\n",
    "    [Mu, 0],\n",
    "    [0, Ms]\n",
    "])\n",
    "\n",
    "K = sp.Matrix([\n",
    "    [Ks+Kt, -Ks],\n",
    "    [-Ks  ,  Ks]\n",
    "])\n",
    "\n",
    "C = sp.Matrix([\n",
    "    [Cs, -Cs],\n",
    "    [-Cs , Cs]\n",
    "])"
   ]
  },
  {
   "cell_type": "code",
   "execution_count": 116,
   "metadata": {},
   "outputs": [
    {
     "data": {
      "text/latex": [
       "$\\displaystyle \\left[\\begin{matrix}M_{u} & 0\\\\0 & M_{s}\\end{matrix}\\right]$"
      ],
      "text/plain": [
       "Matrix([\n",
       "[M_u,   0],\n",
       "[  0, M_s]])"
      ]
     },
     "execution_count": 116,
     "metadata": {},
     "output_type": "execute_result"
    }
   ],
   "source": [
    "M"
   ]
  },
  {
   "cell_type": "code",
   "execution_count": 117,
   "metadata": {},
   "outputs": [
    {
     "data": {
      "text/latex": [
       "$\\displaystyle \\left[\\begin{matrix}K_{s} + K_{t} & - K_{s}\\\\- K_{s} & K_{s}\\end{matrix}\\right]$"
      ],
      "text/plain": [
       "Matrix([\n",
       "[K_s + K_t, -K_s],\n",
       "[     -K_s,  K_s]])"
      ]
     },
     "execution_count": 117,
     "metadata": {},
     "output_type": "execute_result"
    }
   ],
   "source": [
    "K"
   ]
  },
  {
   "cell_type": "code",
   "execution_count": 118,
   "metadata": {},
   "outputs": [
    {
     "data": {
      "text/latex": [
       "$\\displaystyle \\left[\\begin{matrix}C_{s} & - C_{s}\\\\- C_{s} & C_{s}\\end{matrix}\\right]$"
      ],
      "text/plain": [
       "Matrix([\n",
       "[ C_s, -C_s],\n",
       "[-C_s,  C_s]])"
      ]
     },
     "execution_count": 118,
     "metadata": {},
     "output_type": "execute_result"
    }
   ],
   "source": [
    "C"
   ]
  }
 ],
 "metadata": {
  "kernelspec": {
   "display_name": "Python 3",
   "language": "python",
   "name": "python3"
  },
  "language_info": {
   "codemirror_mode": {
    "name": "ipython",
    "version": 3
   },
   "file_extension": ".py",
   "mimetype": "text/x-python",
   "name": "python",
   "nbconvert_exporter": "python",
   "pygments_lexer": "ipython3",
   "version": "3.10.6"
  },
  "orig_nbformat": 4
 },
 "nbformat": 4,
 "nbformat_minor": 2
}
