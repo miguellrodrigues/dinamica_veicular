{
 "cells": [
  {
   "cell_type": "code",
   "execution_count": 27,
   "metadata": {},
   "outputs": [],
   "source": [
    "import numpy as np\n",
    "import matplotlib.pyplot as plt\n",
    "from sympy import Matrix, symbols, atan2, pi, exp, sin, cos, sqrt, lambdify, pprint, simplify\n",
    "from numpy import array, arange\n",
    "import scienceplots\n",
    "\n",
    "np.set_printoptions(precision=3, suppress=True)\n",
    "\n",
    "plt.style.use([\n",
    "    'grid',\n",
    "    'retro'\n",
    "])"
   ]
  },
  {
   "cell_type": "code",
   "execution_count": 28,
   "metadata": {},
   "outputs": [],
   "source": [
    "m_v = 1500\n",
    "J_v = 2400\n",
    "m_d = 100\n",
    "m_t = 100\n",
    "\n",
    "M = np.diag([m_v, J_v, m_d, m_t])\n",
    "\n",
    "c_sd = 500\n",
    "c_st = 500\n",
    "\n",
    "l_d  = 1.17\n",
    "l_t  = 1.68\n",
    "\n",
    "C = array([\n",
    "    [c_sd+c_st, l_d*c_sd-l_t*c_st, -c_sd, -c_st],\n",
    "    [l_d*c_sd-l_t*c_st, l_d**2*c_sd+l_t**2*c_st, -l_d*c_sd, l_t*c_st],\n",
    "    [-c_sd, -l_d*c_sd, c_sd, 0],\n",
    "    [-c_st, l_t*c_st, 0, c_st]\n",
    "])\n",
    "\n",
    "k_sd = 30000\n",
    "k_st = 30000\n",
    "kd   = 300000\n",
    "kt   = 300000\n",
    "\n",
    "K = array([\n",
    "    [k_sd+k_st, l_d*k_sd-l_t*k_st, -k_sd, -k_st],\n",
    "    [l_d*k_sd-l_t*k_st, l_d**2*k_sd+l_t**2*k_st, -l_d*k_sd, l_t*k_st],\n",
    "    [-k_sd, -l_d*k_sd, k_sd+kd, 0],\n",
    "    [-k_st, l_t*k_st, 0, k_st+kt]\n",
    "])\n",
    "\n",
    "X0 = array([\n",
    "    [0],\n",
    "    [0],\n",
    "    [1],\n",
    "    [1],\n",
    "])\n",
    "\n",
    "V0 = array([\n",
    "    [0],\n",
    "    [0],\n",
    "    [0],\n",
    "    [0],\n",
    "])\n",
    "\n",
    "N = M.shape[0]"
   ]
  },
  {
   "cell_type": "code",
   "execution_count": 29,
   "metadata": {},
   "outputs": [],
   "source": [
    "# Calculando M á menos meio\n",
    "M_minus_half = np.vectorize(lambda x: 1/np.sqrt(x) if x != 0 else 0)(M)\n",
    "M_half       = np.vectorize(lambda x: np.sqrt(x))(M)\n",
    "\n",
    "\n",
    "# Calculando Ktil\n",
    "K_til = M_minus_half @ K @ M_minus_half\n",
    "C_til = M_minus_half @ C @ M_minus_half\n",
    "\n",
    "wn, P = np.linalg.eig(K_til)\n",
    "wn    = np.sqrt(wn)\n",
    "\n",
    "S     = M_minus_half @ P\n",
    "S_inv = P.T@M_half\n",
    "\n",
    "Y     = P.T@C_til@P\n",
    "Y     = Y / (2*wn)\n",
    "zetas = array([Y[i,i] for i in range(N)])\n",
    "\n",
    "wds   = wn * np.sqrt(1-zetas**2)\n",
    "wds   = np.real(wds)"
   ]
  },
  {
   "cell_type": "code",
   "execution_count": 30,
   "metadata": {},
   "outputs": [
    {
     "name": "stdout",
     "output_type": "stream",
     "text": [
      "wn:  [ 5.72   7.153 57.474 57.491]\n",
      "wd:  [ 5.715  7.142 57.418 57.433]\n",
      "zeta:  [0.043 0.054 0.044 0.045]\n",
      " \n",
      "P: \n",
      " [[ 0.897  0.442 -0.029 -0.018]\n",
      " [ 0.442 -0.896 -0.014  0.036]\n",
      " [ 0.031 -0.009  0.972 -0.231]\n",
      " [ 0.007  0.039  0.231  0.972]]\n",
      " \n",
      "S: \n",
      " [[ 0.023  0.011 -0.001 -0.   ]\n",
      " [ 0.009 -0.018 -0.     0.001]\n",
      " [ 0.003 -0.001  0.097 -0.023]\n",
      " [ 0.001  0.004  0.023  0.097]]\n",
      " \n",
      "S_inv: \n",
      " [[ 34.724  21.643   0.309   0.073]\n",
      " [ 17.105 -43.909  -0.092   0.389]\n",
      " [ -1.105  -0.689   9.725   2.308]\n",
      " [ -0.685   1.757  -2.308   9.722]]\n"
     ]
    }
   ],
   "source": [
    "print('wn: ', wn)\n",
    "print('wd: ', wds)\n",
    "print('zeta: ', zetas)\n",
    "print(' ')\n",
    "print('P: \\n', P)\n",
    "print(' ')\n",
    "print('S: \\n', S)\n",
    "print(' ')\n",
    "print('S_inv: \\n', S_inv)"
   ]
  },
  {
   "cell_type": "code",
   "execution_count": 31,
   "metadata": {},
   "outputs": [
    {
     "name": "stdout",
     "output_type": "stream",
     "text": [
      "[[ 0.383] \n",
      " [ 0.297] \n",
      " [12.033] \n",
      " [ 7.414]]\n",
      " \n",
      "[[0.] \n",
      " [0.] \n",
      " [0.] \n",
      " [0.]]\n"
     ]
    }
   ],
   "source": [
    "# condições iniciais inversas modais\n",
    "r_0     = (S_inv@X0)\n",
    "r_dot_0 = (S_inv@V0)\n",
    "\n",
    "pprint(r_0)\n",
    "print(' ')\n",
    "pprint(r_dot_0)"
   ]
  },
  {
   "cell_type": "code",
   "execution_count": 32,
   "metadata": {},
   "outputs": [],
   "source": [
    "# Calculando as soluções modais desacopladas\n",
    "t = symbols('t')\n",
    "\n",
    "r = []\n",
    "\n",
    "forced_response_forces = array([\n",
    "    [.0],\n",
    "    [.0],\n",
    "    [kd],\n",
    "    [kt]\n",
    "])\n",
    "\n",
    "B = np.eye(N)\n",
    "\n",
    "F = P.T @ M_minus_half @ B @ forced_response_forces\n",
    "wf = 10\n",
    "\n",
    "for i in range(N):\n",
    "    w    = wn[i]\n",
    "    wd   = wds[i]\n",
    "    zeta = zetas[i]\n",
    "    \n",
    "    r_zero    = r_0    [i, 0]\n",
    "    rdot_zero = r_dot_0[i, 0]\n",
    "\n",
    "    Ai = sqrt(\n",
    "        ( (r_zero * wd)**2 + (rdot_zero + zeta*w*r_zero)**2 ) / (wd**2)\n",
    "    )\n",
    "\n",
    "    phi_i = atan2(\n",
    "        (r_zero*wd),(rdot_zero + zeta*w*r_zero)\n",
    "    )\n",
    "\n",
    "    if rdot_zero == 0:\n",
    "        phi_i = pi/2\n",
    "    \n",
    "    expr_r = Ai*exp(-zeta*w*t)*sin(wd*t + phi_i)\n",
    "\n",
    "    f0 = F[i]\n",
    "    A0 = f0 / sqrt( (w**2 - wf**2)**2 + (2*zeta*w*wf)**2 )\n",
    "\n",
    "    theta = atan2( (2*zeta*w*wf), (w**2 - wf**2) )\n",
    "\n",
    "    if (w**2 - wf**2) == 0:\n",
    "        theta = pi/2\n",
    "        \n",
    "    expr_r += A0*cos(wf*t - theta)\n",
    "    \n",
    "    r.append(\n",
    "        expr_r\n",
    "    )\n",
    "\n",
    "R = Matrix(r)\n",
    "x_t = S@R"
   ]
  },
  {
   "cell_type": "code",
   "execution_count": 33,
   "metadata": {},
   "outputs": [],
   "source": [
    "# Simulação\n",
    "\n",
    "sampling_period = 1e-1\n",
    "samples = 10000\n",
    "\n",
    "time = arange(0, samples*sampling_period, sampling_period)\n",
    "\n",
    "x = [lambdify(t, x_t[i,0], 'numpy') for i in range(N)]\n",
    "\n",
    "xi = [x[i](time) for i in range(N)]\n",
    "\n",
    "fig, ax = plt.subplots(N, 1, figsize=(10, 10))\n",
    "plt.subplots_adjust(hspace=0.25)\n",
    "\n",
    "idx = 1000\n",
    "\n",
    "for i in range(N):\n",
    "    ax[i].plot(time[:idx], xi[i][:idx], label=f'$x_{i+1}(t)$')\n",
    "    ax[i].set_ylabel(f'$x_{i+1}(t)$')\n",
    "    ax[i].legend()\n",
    "\n",
    "# plt.savefig('imagens/forced_response.png', dpi=300)"
   ]
  },
  {
   "cell_type": "code",
   "execution_count": 34,
   "metadata": {},
   "outputs": [
    {
     "data": {
      "text/plain": [
       "<matplotlib.legend.Legend at 0x7f1b1efff760>"
      ]
     },
     "execution_count": 34,
     "metadata": {},
     "output_type": "execute_result"
    }
   ],
   "source": [
    "plt.figure()\n",
    "\n",
    "for i in range(N):\n",
    "    plt.plot(time[:idx], xi[i][:idx], label=f'$x_{i+1}(t)$')\n",
    "\n",
    "plt.xlabel('Tempo (s)')\n",
    "plt.ylabel('Deslocamento (m)')\n",
    "\n",
    "plt.legend()"
   ]
  },
  {
   "cell_type": "code",
   "execution_count": 35,
   "metadata": {},
   "outputs": [
    {
     "data": {
      "text/plain": [
       "<matplotlib.legend.Legend at 0x7f1b1f36ad40>"
      ]
     },
     "execution_count": 35,
     "metadata": {},
     "output_type": "execute_result"
    }
   ],
   "source": [
    "def fft(signal, sampling_time):\n",
    "    fft = np.fft.fft(signal)\n",
    "    N = signal.shape[0]\n",
    "\n",
    "    f = np.fft.fftfreq(len(signal), sampling_time)\n",
    "\n",
    "    K = N // 2\n",
    "\n",
    "    freqs = f[:K]*2*np.pi\n",
    "    amplitudes = np.abs(fft)[:K] * (1 / N)\n",
    "\n",
    "    phase = np.rad2deg(np.angle(fft)[:K])\n",
    "\n",
    "    return freqs, amplitudes, phase\n",
    "\n",
    "\n",
    "ffts   = [fft(xi[i], sampling_period) for i in range(N)]\n",
    "\n",
    "maximum_amp = np.max([\n",
    "    np.max(ffts[i][1]) for i in range(N)\n",
    "])\n",
    "\n",
    "maximum_freq = np.max(\n",
    "    [ffts[i][0][np.argmax(ffts[i][1])] for i in range(N)]\n",
    ")\n",
    "\n",
    "plt.figure()\n",
    "plt.semilogy()\n",
    "\n",
    "for i in range(N):\n",
    "\n",
    "    plt.plot(\n",
    "        ffts[i][0]/maximum_freq,\n",
    "        ffts[i][1],\n",
    "        label=f'$x_{i+1}(t)$'\n",
    "    )\n",
    "\n",
    "plt.xlim(.0, 2)\n",
    "plt.xlabel('r')\n",
    "plt.ylabel('mag(r) [dB]')\n",
    "plt.legend()"
   ]
  },
  {
   "cell_type": "code",
   "execution_count": 36,
   "metadata": {},
   "outputs": [],
   "source": [
    "wn /= (2*np.pi)"
   ]
  },
  {
   "cell_type": "code",
   "execution_count": 37,
   "metadata": {},
   "outputs": [],
   "source": [
    "# for each eigenvalue ( natural frequency ), plot an bar\n",
    "# of the energy of the system at that frequency with the eigenvector\n",
    "%matplotlib qt\n",
    "\n",
    "colors = ['C6', 'C1', 'C2', 'C3']\n",
    "\n",
    "wn = sorted(wn, reverse=True)\n",
    "\n",
    "plt.rcParams['figure.figsize'] = (12, 10)\n",
    "plt.figure()\n",
    "for i in range(len(wn)):\n",
    "    w = wn[i]\n",
    "    p = np.abs(P[:, i])**2\n",
    "\n",
    "    for j in range(len(p)):\n",
    "        plt.bar((i+1), p[j], bottom=np.sum(p[:j]), width=0.1, color=colors[j])\n",
    "\n",
    "\n",
    "plt.xlabel(r'$\\omega_n (H_z)$')\n",
    "plt.ylabel('Energia')\n",
    "\n",
    "# y ticks in percentage\n",
    "plt.gca().yaxis.set_major_formatter(lambda x, _: f'{x*100:.0f}%')\n",
    "plt.xticks(range(N, 0, -1), np.round((wn), 3))\n",
    "\n",
    "plt.legend(['$m_s$', '$I_y$', '$m_1$', '$m_2$'])\n",
    "plt.savefig('energyhc.png', dpi=300)"
   ]
  },
  {
   "cell_type": "code",
   "execution_count": 58,
   "metadata": {},
   "outputs": [
    {
     "name": "stdout",
     "output_type": "stream",
     "text": [
      "\\left[\\begin{matrix}0\\\\0\\\\300000 y_{d}\\\\300000 y_{t}\\end{matrix}\\right]\n"
     ]
    }
   ],
   "source": [
    "import sympy as sp\n",
    "\n",
    "m_v = 1500\n",
    "J_v = 2400\n",
    "m_d = 100\n",
    "m_t = 100\n",
    "\n",
    "M = sp.diag(m_v, J_v, m_d, m_t)\n",
    "\n",
    "c_sd = 500\n",
    "c_st = 500\n",
    "\n",
    "l_d  = 1.17\n",
    "l_t  = 1.68\n",
    "\n",
    "C = sp.Matrix([\n",
    "    [c_sd+c_st, l_d*c_sd-l_t*c_st, -c_sd, -c_st],\n",
    "    [l_d*c_sd-l_t*c_st, l_d**2*c_sd+l_t**2*c_st, -l_d*c_sd, l_t*c_st],\n",
    "    [-c_sd, -l_d*c_sd, c_sd, 0],\n",
    "    [-c_st, l_t*c_st, 0, c_st]\n",
    "])\n",
    "\n",
    "k_sd = 30000\n",
    "k_st = 30000\n",
    "kd   = 300000\n",
    "kt   = 300000\n",
    "\n",
    "K = sp.Matrix([\n",
    "    [k_sd+k_st, l_d*k_sd-l_t*k_st, -k_sd, -k_st],\n",
    "    [l_d*k_sd-l_t*k_st, l_d**2*k_sd+l_t**2*k_st, -l_d*k_sd, l_t*k_st],\n",
    "    [-k_sd, -l_d*k_sd, k_sd+kd, 0],\n",
    "    [-k_st, l_t*k_st, 0, k_st+kt]\n",
    "])\n",
    "\n",
    "x_v, theta, m_d, m_t = sp.symbols('x_v theta m_d m_t')\n",
    "X = sp.Matrix([x_v, theta, m_d, m_t])\n",
    "\n",
    "yd, yt = sp.symbols('y_d y_t')\n",
    "\n",
    "sp.print_latex(sp.Matrix([0, 0, kd*yd, kt*yt]))"
   ]
  }
 ],
 "metadata": {
  "kernelspec": {
   "display_name": "Python 3.10.6 64-bit",
   "language": "python",
   "name": "python3"
  },
  "language_info": {
   "codemirror_mode": {
    "name": "ipython",
    "version": 3
   },
   "file_extension": ".py",
   "mimetype": "text/x-python",
   "name": "python",
   "nbconvert_exporter": "python",
   "pygments_lexer": "ipython3",
   "version": "3.10.6"
  },
  "orig_nbformat": 4,
  "vscode": {
   "interpreter": {
    "hash": "e7370f93d1d0cde622a1f8e1c04877d8463912d04d973331ad4851f04de6915a"
   }
  }
 },
 "nbformat": 4,
 "nbformat_minor": 2
}
