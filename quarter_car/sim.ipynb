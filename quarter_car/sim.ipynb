{
 "cells": [
  {
   "cell_type": "code",
   "execution_count": 15,
   "metadata": {},
   "outputs": [],
   "source": [
    "import numpy as np\n",
    "import matplotlib.pyplot as plt\n",
    "import control as ct\n",
    "from numpy import array\n",
    "import scienceplots\n",
    "\n",
    "np.set_printoptions(precision=3, suppress=True)\n",
    "\n",
    "plt.style.use([\n",
    "    'grid',\n",
    "    'retro'\n",
    "])"
   ]
  },
  {
   "cell_type": "code",
   "execution_count": 16,
   "metadata": {},
   "outputs": [],
   "source": [
    "Ms = 1500\n",
    "Mu = 150\n",
    "\n",
    "Ks = 3000\n",
    "Ku = 30000\n",
    "\n",
    "Cs = 500\n",
    "\n",
    "M = np.diag([Ms, Mu])\n",
    "\n",
    "K = np.array([\n",
    "    [Ks+Ku, -Ks],\n",
    "    [-Ks, Ks]\n",
    "])\n",
    "\n",
    "C = np.array([\n",
    "    [Cs, -Cs],\n",
    "    [-Cs, Cs]\n",
    "])\n",
    "\n",
    "N = M.shape[0]"
   ]
  },
  {
   "cell_type": "code",
   "execution_count": 17,
   "metadata": {},
   "outputs": [],
   "source": [
    "_M = -np.linalg.inv(M)\n",
    "\n",
    "A = np.block([\n",
    "    [np.zeros((N, N)), np.eye(N)],\n",
    "    [_M@K, _M@C]\n",
    "])\n",
    "\n",
    "F = np.array([\n",
    "    [0,  0],\n",
    "    [Ks, Ku],\n",
    "])\n",
    "\n",
    "B = np.block([\n",
    "    [np.zeros((N, N))],\n",
    "    [-_M@F]\n",
    "])\n",
    "\n",
    "_C = np.eye(2*N)\n",
    "D = np.zeros((2*N, N))\n",
    "\n",
    "sys = ct.ss(A, B, _C, D)\n",
    "tf_sys = ct.ss2tf(sys)"
   ]
  },
  {
   "cell_type": "code",
   "execution_count": 18,
   "metadata": {},
   "outputs": [
    {
     "data": {
      "text/plain": [
       "array([[  0.,   0.],\n",
       "       [  0.,   0.],\n",
       "       [  0.,   0.],\n",
       "       [ 20., 200.]])"
      ]
     },
     "execution_count": 18,
     "metadata": {},
     "output_type": "execute_result"
    }
   ],
   "source": [
    "B"
   ]
  },
  {
   "cell_type": "code",
   "execution_count": 19,
   "metadata": {},
   "outputs": [
    {
     "data": {
      "text/plain": [
       "<matplotlib.legend.Legend at 0x7f76d6fa4100>"
      ]
     },
     "execution_count": 19,
     "metadata": {},
     "output_type": "execute_result"
    }
   ],
   "source": [
    "%matplotlib qt\n",
    "\n",
    "ct.bode(tf_sys[0,0], omega_limits=(1e-1, 1e3))\n",
    "ct.bode(tf_sys[2,0], omega_limits=(1e-1, 1e3))\n",
    "\n",
    "plt.legend(['$x_u$', '$x_s$'])"
   ]
  },
  {
   "cell_type": "code",
   "execution_count": 26,
   "metadata": {},
   "outputs": [
    {
     "data": {
      "text/plain": [
       "[<matplotlib.lines.Line2D at 0x7f76cf1bdf60>]"
      ]
     },
     "execution_count": 26,
     "metadata": {},
     "output_type": "execute_result"
    }
   ],
   "source": [
    "T = np.arange(0, 30, 1e-2)\n",
    "U = np.zeros((2, T.shape[0]))\n",
    "\n",
    "#U[0, :] = np.sin(2*np.pi*.1*T)\n",
    "#U[1, :] = np.sin(2*np.pi*.2*T)\n",
    "\n",
    "_,y = ct.forced_response(\n",
    "    sys, T, U, X0=np.random.randn(4, 1)\n",
    ")\n",
    "\n",
    "plt.plot(T, y[0])\n",
    "plt.plot(T, y[1])\n"
   ]
  },
  {
   "cell_type": "code",
   "execution_count": 28,
   "metadata": {},
   "outputs": [
    {
     "data": {
      "text/plain": [
       "<matplotlib.legend.Legend at 0x7f76d2302200>"
      ]
     },
     "execution_count": 28,
     "metadata": {},
     "output_type": "execute_result"
    }
   ],
   "source": [
    "x1 = y[0]\n",
    "x2 = y[1]\n",
    "\n",
    "x1_dot = y[2]\n",
    "x2_dot = y[3]\n",
    "\n",
    "# Energia Cinetica\n",
    "E = (1/2) * (Ms*x1_dot**2 + Mu*x2_dot**2)\n",
    "\n",
    "# Energia Potencial\n",
    "V = (1/2) * (Ku*(x1-x2)**2 + Ks*x2**2)\n",
    "\n",
    "# Energia Total\n",
    "Te = E + V\n",
    "\n",
    "# # # # #\n",
    "\n",
    "MI = np.vectorize(lambda x: 1/np.sqrt(x) if x != 0 else 0)(M)\n",
    "Kt = MI@K@MI\n",
    "\n",
    "wn, P = np.linalg.eig(Kt)\n",
    "wn = np.sqrt(wn)\n",
    "\n",
    "wn /= 2*np.pi\n",
    "\n",
    "# for each eigenvalue ( natural frequency ), plot an bar\n",
    "# of the energy of the system at that frequency with the eigenvector\n",
    "\n",
    "%matplotlib qt\n",
    "\n",
    "colors = ['C1', 'C2', 'C3', 'C4']\n",
    "\n",
    "for i in range(len(wn)):\n",
    "    w = wn[i]\n",
    "    p = np.abs(P[:, i])**2\n",
    "\n",
    "    for j in range(len(p)):\n",
    "        plt.bar(w, p[j], bottom=np.sum(p[:j]), width=.01, color=colors[j])\n",
    "\n",
    "\n",
    "plt.xlabel('Frequência (Hz)')\n",
    "plt.ylabel('Energia')\n",
    "# y ticks in percentage\n",
    "plt.gca().yaxis.set_major_formatter(lambda x, _: f'{x*100:.0f}%')\n",
    "\n",
    "plt.legend([f'${i+1}$' for i in range(N)])"
   ]
  },
  {
   "cell_type": "code",
   "execution_count": 22,
   "metadata": {},
   "outputs": [
    {
     "data": {
      "text/plain": [
       "[<matplotlib.lines.Line2D at 0x7f76d21e73a0>]"
      ]
     },
     "execution_count": 22,
     "metadata": {},
     "output_type": "execute_result"
    }
   ],
   "source": [
    "plt.figure()\n",
    "plt.plot(T,E)\n",
    "plt.plot(T,V)"
   ]
  },
  {
   "cell_type": "code",
   "execution_count": 23,
   "metadata": {},
   "outputs": [],
   "source": [
    "w     = np.linspace(1e-1, 10, 1000)\n",
    "zetas = np.linspace(.1, 1, 6)\n",
    "\n",
    "epsilon = Ms/Mu\n",
    "ws      = np.sqrt(Ks/Ms)\n",
    "wu      = np.sqrt(Ku/Mu)\n",
    "alpha   = ws/wu\n",
    "r       = w/ws\n",
    "\n",
    "fig, axs = plt.subplots(3, 1, sharex=True, figsize=(10, 10))\n",
    "\n",
    "# axs[0] = mu: Xs/Y transmissibility suspended mass\n",
    "# axs[1] = tau: Xu/Y transmissibility unsuspended mass\n",
    "# axs[2] = eta: Z/Y displacement transmissibility\n",
    "\n",
    "for zeta in zetas:\n",
    "    Z1 = (r**2*(r**2*alpha**2-1)+(1-(1+epsilon)*r**2*alpha**2))\n",
    "    Z2 = 2*zeta*r*(1-(1+epsilon)*r**2*alpha**2)\n",
    "\n",
    "    mu  = np.sqrt( (4*zeta**2*r**2 + 1)/(Z1**2+Z2**2) )\n",
    "    tau = np.sqrt( (4*zeta**2*r**2+1+r**2*(r**2-2))/(Z1**2+Z2**2) )\n",
    "    eta = np.sqrt(r**4 / (Z1**2+Z2**2))\n",
    "\n",
    "    axs[0].plot(w, mu,  label=f'$\\\\zeta={zeta:.1f}$')\n",
    "    axs[1].plot(w, tau, label=f'$\\\\zeta={zeta:.1f}$')\n",
    "    axs[2].plot(w, eta, label=f'$\\\\zeta={zeta:.1f}$')\n",
    "\n",
    "# put the Y label in diagonal to save space\n",
    "\n",
    "axs[0].set_ylabel('$\\mu = \\\\frac{X_s}{y}$')\n",
    "axs[1].set_ylabel('$\\\\tau = \\\\frac{X_u}{Y}$')\n",
    "axs[2].set_ylabel('$\\eta = \\\\frac{Z}{Y}$')\n",
    "axs[2].set_xlabel('$r$')\n",
    "\n",
    "plt.legend()\n",
    "plt.savefig('transmissibility.png', dpi=300, bbox_inches='tight')"
   ]
  },
  {
   "cell_type": "code",
   "execution_count": 24,
   "metadata": {},
   "outputs": [],
   "source": [
    "# print(f'epsilon = {epsilon:.3f}')\n",
    "# print(f'ws = {ws/2/np.pi:.3f}')\n",
    "# print(f'wu = {wu/2/np.pi:.3f}')\n",
    "# print(f'alpha = {alpha:.3f}')"
   ]
  }
 ],
 "metadata": {
  "kernelspec": {
   "display_name": "Python 3",
   "language": "python",
   "name": "python3"
  },
  "language_info": {
   "codemirror_mode": {
    "name": "ipython",
    "version": 3
   },
   "file_extension": ".py",
   "mimetype": "text/x-python",
   "name": "python",
   "nbconvert_exporter": "python",
   "pygments_lexer": "ipython3",
   "version": "3.10.6"
  },
  "orig_nbformat": 4
 },
 "nbformat": 4,
 "nbformat_minor": 2
}
