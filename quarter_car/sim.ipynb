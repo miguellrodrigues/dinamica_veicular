{
 "cells": [
  {
   "cell_type": "code",
   "execution_count": 212,
   "metadata": {},
   "outputs": [],
   "source": [
    "import numpy as np\n",
    "import matplotlib.pyplot as plt\n",
    "import control as ct\n",
    "from numpy import array\n",
    "import scienceplots\n",
    "\n",
    "np.set_printoptions(precision=3, suppress=True)\n",
    "\n",
    "plt.style.use([\n",
    "    'grid',\n",
    "    'retro'\n",
    "])"
   ]
  },
  {
   "cell_type": "code",
   "execution_count": 213,
   "metadata": {},
   "outputs": [],
   "source": [
    "Ms = 1500\n",
    "Mu = 150\n",
    "\n",
    "Ks = 30000\n",
    "Ku = 30000\n",
    "\n",
    "Cs = 500\n",
    "\n",
    "M = np.diag([Ms, Mu])\n",
    "\n",
    "K = np.array([\n",
    "    [Ks, -Ks],\n",
    "    [-Ks, Ks+Ku]\n",
    "])\n",
    "\n",
    "C = np.array([\n",
    "    [Cs, -Cs],\n",
    "    [-Cs, Cs]\n",
    "])\n",
    "\n",
    "N = M.shape[0]"
   ]
  },
  {
   "cell_type": "code",
   "execution_count": 214,
   "metadata": {},
   "outputs": [],
   "source": [
    "_M = -np.linalg.inv(M)\n",
    "\n",
    "A = np.block([\n",
    "    [np.zeros((N, N)), np.eye(N)],\n",
    "    [_M@K, _M@C]\n",
    "])\n",
    "\n",
    "F = np.array([\n",
    "    [0,  0],\n",
    "    [Ks, Ku],\n",
    "])\n",
    "\n",
    "B = np.block([\n",
    "    [np.zeros((N, N))],\n",
    "    [-_M@F]\n",
    "])\n",
    "\n",
    "_C = np.eye(2*N)\n",
    "D = np.zeros((2*N, N))\n",
    "\n",
    "sys = ct.ss(A, B, _C, D)\n",
    "tf_sys = ct.ss2tf(sys)"
   ]
  },
  {
   "cell_type": "code",
   "execution_count": 215,
   "metadata": {},
   "outputs": [
    {
     "data": {
      "text/plain": [
       "array([[  0.,   0.],\n",
       "       [  0.,   0.],\n",
       "       [  0.,   0.],\n",
       "       [200., 200.]])"
      ]
     },
     "execution_count": 215,
     "metadata": {},
     "output_type": "execute_result"
    }
   ],
   "source": [
    "B"
   ]
  },
  {
   "cell_type": "code",
   "execution_count": 216,
   "metadata": {},
   "outputs": [
    {
     "data": {
      "text/plain": [
       "<matplotlib.legend.Legend at 0x7f6e7fe12c20>"
      ]
     },
     "execution_count": 216,
     "metadata": {},
     "output_type": "execute_result"
    }
   ],
   "source": [
    "%matplotlib qt\n",
    "\n",
    "ct.bode(tf_sys[0,0], omega_limits=(1e-1, 1e3))\n",
    "ct.bode(tf_sys[2,0], omega_limits=(1e-1, 1e3))\n",
    "\n",
    "plt.legend(['$x_u$', '$x_s$'])"
   ]
  },
  {
   "cell_type": "code",
   "execution_count": 217,
   "metadata": {},
   "outputs": [
    {
     "data": {
      "text/plain": [
       "[<matplotlib.lines.Line2D at 0x7f6e7e41dcf0>]"
      ]
     },
     "execution_count": 217,
     "metadata": {},
     "output_type": "execute_result"
    }
   ],
   "source": [
    "T = np.linspace(0, 100, 1000)\n",
    "U = np.zeros((2, T.shape[0]))\n",
    "\n",
    "U[0, :] = np.sin(2*np.pi*8*T)\n",
    "\n",
    "_,y = ct.forced_response(\n",
    "    sys, T, U\n",
    ")\n",
    "\n",
    "plt.plot(T, y[0])\n",
    "plt.plot(T, y[1])"
   ]
  },
  {
   "cell_type": "code",
   "execution_count": 220,
   "metadata": {},
   "outputs": [
    {
     "data": {
      "text/plain": [
       "<matplotlib.legend.Legend at 0x7f6e7e0a8130>"
      ]
     },
     "execution_count": 220,
     "metadata": {},
     "output_type": "execute_result"
    }
   ],
   "source": [
    "w     = np.linspace(1e-1, 10, 1000)\n",
    "zetas = np.linspace(.1, 2, 6)\n",
    "\n",
    "epsilon = Ms/Mu\n",
    "ws      = np.sqrt(Ks/Ms)\n",
    "wu      = np.sqrt(Ku/Mu)\n",
    "alpha   = ws/wu\n",
    "r       = w/ws\n",
    "\n",
    "fig, axs = plt.subplots(3, 1, sharex=True)\n",
    "\n",
    "# axs[0] = mu: Xs/Y transmissibility suspended mass\n",
    "# axs[1] = tau: Xu/Y transmissibility unsuspended mass\n",
    "# axs[2] = eta: Z/Y displacement transmissibility\n",
    "\n",
    "for zeta in zetas:\n",
    "    Z1 = (r**2*(r**2*alpha**2-1)+(1-(1+epsilon)*r**2*alpha**2))\n",
    "    Z2 = 2*zeta*r*(1-(1+epsilon)*r**2*alpha**2)\n",
    "\n",
    "    mu  = np.sqrt( (4*zeta**2*r**2 + 1)/(Z1**2+Z2**2) )\n",
    "    tau = np.sqrt( (4*zeta**2*r**2+1+r**2*(r**2-2))/(Z1**2+Z2**2) )\n",
    "    eta = np.sqrt(r**4 / (Z1**2+Z2**2))\n",
    "\n",
    "    axs[0].plot(r, mu,  label=f'$\\\\zeta={zeta:.1f}$')\n",
    "    axs[1].plot(r, tau, label=f'$\\\\zeta={zeta:.1f}$')\n",
    "    axs[2].plot(r, eta, label=f'$\\\\zeta={zeta:.1f}$')\n",
    "\n",
    "# put the Y label in diagonal to save space\n",
    "\n",
    "axs[0].set_ylabel('$\\mu = \\\\frac{X_s}{y}$')\n",
    "axs[1].set_ylabel('$\\\\tau = \\\\frac{X_u}{Y}$')\n",
    "axs[2].set_ylabel('$\\eta = \\\\frac{Z}{Y}$')\n",
    "axs[2].set_xlabel('$r$')\n",
    "\n",
    "plt.legend()"
   ]
  },
  {
   "cell_type": "code",
   "execution_count": 219,
   "metadata": {},
   "outputs": [
    {
     "name": "stdout",
     "output_type": "stream",
     "text": [
      "epsilon = 10.000\n",
      "ws = 0.712\n",
      "wu = 2.251\n",
      "alpha = 0.316\n"
     ]
    }
   ],
   "source": [
    "print(f'epsilon = {epsilon:.3f}')\n",
    "print(f'ws = {ws/2/np.pi:.3f}')\n",
    "print(f'wu = {wu/2/np.pi:.3f}')\n",
    "print(f'alpha = {alpha:.3f}')"
   ]
  }
 ],
 "metadata": {
  "kernelspec": {
   "display_name": "Python 3",
   "language": "python",
   "name": "python3"
  },
  "language_info": {
   "codemirror_mode": {
    "name": "ipython",
    "version": 3
   },
   "file_extension": ".py",
   "mimetype": "text/x-python",
   "name": "python",
   "nbconvert_exporter": "python",
   "pygments_lexer": "ipython3",
   "version": "3.10.6"
  },
  "orig_nbformat": 4
 },
 "nbformat": 4,
 "nbformat_minor": 2
}
