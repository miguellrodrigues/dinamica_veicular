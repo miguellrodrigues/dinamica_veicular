{
 "cells": [
  {
   "cell_type": "code",
   "execution_count": 105,
   "metadata": {},
   "outputs": [],
   "source": [
    "import numpy as np\n",
    "import matplotlib.pyplot as plt\n",
    "import control as ct\n",
    "from numpy import array\n",
    "import scienceplots\n",
    "\n",
    "np.set_printoptions(precision=3, suppress=True)\n",
    "\n",
    "plt.style.use([\n",
    "    'grid',\n",
    "    'retro'\n",
    "])"
   ]
  },
  {
   "cell_type": "code",
   "execution_count": 106,
   "metadata": {},
   "outputs": [],
   "source": [
    "Ms = 1000\n",
    "Mu = 100\n",
    "\n",
    "Ks = 30000\n",
    "Ku = 30000\n",
    "\n",
    "C = 500\n",
    "\n",
    "M = np.diag([Ms, Mu])\n",
    "\n",
    "K = np.array([\n",
    "    [Ks, -Ks],\n",
    "    [-Ks, Ks+Ku]\n",
    "])\n",
    "\n",
    "C = np.array([\n",
    "    [C, -C],\n",
    "    [-C, C]\n",
    "])\n",
    "\n",
    "N = M.shape[0]"
   ]
  },
  {
   "cell_type": "code",
   "execution_count": 107,
   "metadata": {},
   "outputs": [],
   "source": [
    "_M = -np.linalg.inv(M)\n",
    "\n",
    "A = np.block([\n",
    "    [np.zeros((N, N)), np.eye(N)],\n",
    "    [_M@K, _M@C]\n",
    "])\n",
    "\n",
    "F = np.array([\n",
    "    [0,  0],\n",
    "    [Ks, Ku],\n",
    "])\n",
    "\n",
    "B = np.block([\n",
    "    [np.zeros((N, N))],\n",
    "    [-_M@F]\n",
    "])\n",
    "\n",
    "_C = np.eye(2*N)\n",
    "D = np.zeros((2*N, N))\n",
    "\n",
    "sys = ct.ss(A, B, _C, D)\n",
    "tf_sys = ct.ss2tf(sys)"
   ]
  },
  {
   "cell_type": "code",
   "execution_count": 108,
   "metadata": {},
   "outputs": [
    {
     "data": {
      "text/plain": [
       "array([[  0.,   0.],\n",
       "       [  0.,   0.],\n",
       "       [  0.,   0.],\n",
       "       [300., 300.]])"
      ]
     },
     "execution_count": 108,
     "metadata": {},
     "output_type": "execute_result"
    }
   ],
   "source": [
    "B"
   ]
  },
  {
   "cell_type": "code",
   "execution_count": 109,
   "metadata": {},
   "outputs": [
    {
     "data": {
      "text/plain": [
       "<matplotlib.legend.Legend at 0x7f6e8cd33cd0>"
      ]
     },
     "execution_count": 109,
     "metadata": {},
     "output_type": "execute_result"
    }
   ],
   "source": [
    "%matplotlib qt\n",
    "\n",
    "ct.bode(tf_sys[0,0], omega_limits=(1e-1, 1e3))\n",
    "ct.bode(tf_sys[2,0], omega_limits=(1e-1, 1e3))\n",
    "\n",
    "plt.legend(['$x_u$', '$x_s$'])"
   ]
  },
  {
   "cell_type": "code",
   "execution_count": 111,
   "metadata": {},
   "outputs": [
    {
     "data": {
      "text/plain": [
       "[<matplotlib.lines.Line2D at 0x7f6e8abe5210>]"
      ]
     },
     "execution_count": 111,
     "metadata": {},
     "output_type": "execute_result"
    }
   ],
   "source": [
    "T = np.linspace(0, 100, 1000)\n",
    "U = np.zeros((2, T.shape[0]))\n",
    "\n",
    "U[0, :] = np.sin(2*np.pi*8*T)\n",
    "\n",
    "_,y = ct.forced_response(\n",
    "    sys, T, U\n",
    ")\n",
    "\n",
    "plt.plot(T, y[0])\n",
    "plt.plot(T, y[1])"
   ]
  }
 ],
 "metadata": {
  "kernelspec": {
   "display_name": "Python 3",
   "language": "python",
   "name": "python3"
  },
  "language_info": {
   "codemirror_mode": {
    "name": "ipython",
    "version": 3
   },
   "file_extension": ".py",
   "mimetype": "text/x-python",
   "name": "python",
   "nbconvert_exporter": "python",
   "pygments_lexer": "ipython3",
   "version": "3.10.6"
  },
  "orig_nbformat": 4
 },
 "nbformat": 4,
 "nbformat_minor": 2
}
