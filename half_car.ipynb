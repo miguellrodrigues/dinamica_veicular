{
 "cells": [
  {
   "cell_type": "code",
   "execution_count": 26,
   "metadata": {},
   "outputs": [],
   "source": [
    "import numpy as np\n",
    "import sympy as sp\n",
    "import matplotlib.pyplot as plt"
   ]
  },
  {
   "cell_type": "code",
   "execution_count": 27,
   "metadata": {},
   "outputs": [],
   "source": [
    "t = sp.symbols('t')\n",
    "\n",
    "# generalized coordinates\n",
    "x1    = sp.Function('x_1')(t)\n",
    "x2    = sp.Function('x_2')(t)\n",
    "theta = sp.Function('theta')(t)\n",
    "\n",
    "x1_dot    = x1.diff(t)\n",
    "x2_dot    = x2.diff(t)\n",
    "theta_dot = theta.diff(t)\n",
    "\n",
    "x1_ddot    = x1_dot.diff(t)\n",
    "x2_ddot    = x2_dot.diff(t)\n",
    "theta_ddot = theta_dot.diff(t)\n",
    "\n",
    "K1, K2, K3, K4, C1, C2, M1, M2, J = sp.symbols('K_1, K_2, K_3, K_4, C_1, C_2, M_1, M_2, J')"
   ]
  },
  {
   "cell_type": "code",
   "execution_count": 28,
   "metadata": {},
   "outputs": [],
   "source": [
    "# Kinetic energy\n",
    "T = sp.Rational(1,2) * (M1*x1_dot**2 + M2*x2_dot**2 + J*theta_dot**2)\n",
    "\n",
    "# Potential energy\n",
    "V = sp.Rational(1,2) * (K1*(x1-x2)**2 + K2*(x1-x2)**2 + K3*x2**2 + K4*x2**2)\n",
    "\n",
    "# Dissipative energy\n",
    "P = sp.Rational(1,2) * (C1*(x1_dot-x2_dot)**2+C2*(x1_dot-x2_dot)**2 + C1*x2_dot**2 + C2*x2_dot**2)\n",
    "\n",
    "# Lagrangian\n",
    "L = T - V\n",
    "\n",
    "# Euler-Lagrange equations\n",
    "\n",
    "LE1 = sp.diff(L.diff(x1_dot), t)    - L.diff(x1)    + P.diff(x1_dot)\n",
    "LE2 = sp.diff(L.diff(x2_dot), t)    - L.diff(x2)    + P.diff(x2_dot)\n",
    "LE3 = sp.diff(L.diff(theta_dot), t) - L.diff(theta) + P.diff(theta_dot)\n",
    "\n",
    "E1 = sp.Eq(LE1, 0)\n",
    "E2 = sp.Eq(LE2, 0)\n",
    "E3 = sp.Eq(LE3, 0)\n",
    "\n",
    "# Solve for the accelerations\n",
    "z1_ddot = sp.solve(E1, x1_ddot)[0]\n",
    "z2_ddot = sp.solve(E2, x2_ddot)[0]\n",
    "z3_ddot = sp.solve(E3, theta_ddot)[0]"
   ]
  },
  {
   "cell_type": "code",
   "execution_count": 29,
   "metadata": {},
   "outputs": [
    {
     "data": {
      "text/latex": [
       "$\\displaystyle C_{1} \\left(\\frac{d}{d t} x_{1}{\\left(t \\right)} - \\frac{d}{d t} x_{2}{\\left(t \\right)}\\right) + C_{2} \\left(\\frac{d}{d t} x_{1}{\\left(t \\right)} - \\frac{d}{d t} x_{2}{\\left(t \\right)}\\right) + K_{1} \\left(x_{1}{\\left(t \\right)} - x_{2}{\\left(t \\right)}\\right) + K_{2} \\left(x_{1}{\\left(t \\right)} - x_{2}{\\left(t \\right)}\\right) + M_{1} \\frac{d^{2}}{d t^{2}} x_{1}{\\left(t \\right)}$"
      ],
      "text/plain": [
       "C_1*(Derivative(x_1(t), t) - Derivative(x_2(t), t)) + C_2*(Derivative(x_1(t), t) - Derivative(x_2(t), t)) + K_1*(x_1(t) - x_2(t)) + K_2*(x_1(t) - x_2(t)) + M_1*Derivative(x_1(t), (t, 2))"
      ]
     },
     "execution_count": 29,
     "metadata": {},
     "output_type": "execute_result"
    }
   ],
   "source": [
    "E1.args[0].simplify()"
   ]
  },
  {
   "cell_type": "code",
   "execution_count": 30,
   "metadata": {},
   "outputs": [
    {
     "data": {
      "text/latex": [
       "$\\displaystyle - C_{1} \\frac{d}{d t} x_{1}{\\left(t \\right)} + 2 C_{1} \\frac{d}{d t} x_{2}{\\left(t \\right)} - C_{2} \\frac{d}{d t} x_{1}{\\left(t \\right)} + 2 C_{2} \\frac{d}{d t} x_{2}{\\left(t \\right)} - K_{1} x_{1}{\\left(t \\right)} + K_{1} x_{2}{\\left(t \\right)} - K_{2} x_{1}{\\left(t \\right)} + K_{2} x_{2}{\\left(t \\right)} + K_{3} x_{2}{\\left(t \\right)} + K_{4} x_{2}{\\left(t \\right)} + M_{2} \\frac{d^{2}}{d t^{2}} x_{2}{\\left(t \\right)}$"
      ],
      "text/plain": [
       "-C_1*Derivative(x_1(t), t) + 2*C_1*Derivative(x_2(t), t) - C_2*Derivative(x_1(t), t) + 2*C_2*Derivative(x_2(t), t) - K_1*x_1(t) + K_1*x_2(t) - K_2*x_1(t) + K_2*x_2(t) + K_3*x_2(t) + K_4*x_2(t) + M_2*Derivative(x_2(t), (t, 2))"
      ]
     },
     "execution_count": 30,
     "metadata": {},
     "output_type": "execute_result"
    }
   ],
   "source": [
    "E2.args[0].simplify()"
   ]
  },
  {
   "cell_type": "code",
   "execution_count": 35,
   "metadata": {},
   "outputs": [
    {
     "data": {
      "text/latex": [
       "$\\displaystyle J \\frac{d^{2}}{d t^{2}} \\theta{\\left(t \\right)}$"
      ],
      "text/plain": [
       "J*Derivative(theta(t), (t, 2))"
      ]
     },
     "execution_count": 35,
     "metadata": {},
     "output_type": "execute_result"
    }
   ],
   "source": [
    "E3.args[0].simplify()"
   ]
  },
  {
   "cell_type": "code",
   "execution_count": 31,
   "metadata": {},
   "outputs": [],
   "source": [
    "M = sp.Matrix([\n",
    "    [M1, 0],\n",
    "    [0, M2]\n",
    "])\n",
    "\n",
    "K = sp.Matrix([\n",
    "    [ K1+K2, -(K1+K2)],\n",
    "    [-(K1+K2), K1+K2+K3+K4]\n",
    "])\n",
    "\n",
    "C = sp.Matrix([\n",
    "    [C1+C2, -(C1+C2)],\n",
    "    [-(C1+C2) , 2*(C1+C2)]\n",
    "])"
   ]
  },
  {
   "cell_type": "code",
   "execution_count": 32,
   "metadata": {},
   "outputs": [
    {
     "data": {
      "text/latex": [
       "$\\displaystyle \\left[\\begin{matrix}M_{1} & 0\\\\0 & M_{2}\\end{matrix}\\right]$"
      ],
      "text/plain": [
       "Matrix([\n",
       "[M_1,   0],\n",
       "[  0, M_2]])"
      ]
     },
     "execution_count": 32,
     "metadata": {},
     "output_type": "execute_result"
    }
   ],
   "source": [
    "M"
   ]
  },
  {
   "cell_type": "code",
   "execution_count": 33,
   "metadata": {},
   "outputs": [
    {
     "data": {
      "text/latex": [
       "$\\displaystyle \\left[\\begin{matrix}K_{1} + K_{2} & - K_{1} - K_{2}\\\\- K_{1} - K_{2} & K_{1} + K_{2} + K_{3} + K_{4}\\end{matrix}\\right]$"
      ],
      "text/plain": [
       "Matrix([\n",
       "[ K_1 + K_2,            -K_1 - K_2],\n",
       "[-K_1 - K_2, K_1 + K_2 + K_3 + K_4]])"
      ]
     },
     "execution_count": 33,
     "metadata": {},
     "output_type": "execute_result"
    }
   ],
   "source": [
    "K"
   ]
  },
  {
   "cell_type": "code",
   "execution_count": 34,
   "metadata": {},
   "outputs": [
    {
     "data": {
      "text/latex": [
       "$\\displaystyle \\left[\\begin{matrix}C_{1} + C_{2} & - C_{1} - C_{2}\\\\- C_{1} - C_{2} & 2 C_{1} + 2 C_{2}\\end{matrix}\\right]$"
      ],
      "text/plain": [
       "Matrix([\n",
       "[ C_1 + C_2,    -C_1 - C_2],\n",
       "[-C_1 - C_2, 2*C_1 + 2*C_2]])"
      ]
     },
     "execution_count": 34,
     "metadata": {},
     "output_type": "execute_result"
    }
   ],
   "source": [
    "C"
   ]
  }
 ],
 "metadata": {
  "kernelspec": {
   "display_name": "Python 3",
   "language": "python",
   "name": "python3"
  },
  "language_info": {
   "codemirror_mode": {
    "name": "ipython",
    "version": 3
   },
   "file_extension": ".py",
   "mimetype": "text/x-python",
   "name": "python",
   "nbconvert_exporter": "python",
   "pygments_lexer": "ipython3",
   "version": "3.10.6"
  },
  "orig_nbformat": 4
 },
 "nbformat": 4,
 "nbformat_minor": 2
}
